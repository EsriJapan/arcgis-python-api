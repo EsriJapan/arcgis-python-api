{
 "cells": [
  {
   "cell_type": "markdown",
   "metadata": {},
   "source": [
    "## 高度な利用方法\n",
    "このセクションでは、ジオプロセシング ツールを実行する際の環境設定、ログの使用、例外処理などの高度なコンセプトについて説明します。"
   ]
  },
  {
   "cell_type": "markdown",
   "metadata": {},
   "source": [
    "## ジオプロセシング環境\n",
    "ジオプロセシングの環境設定は、ジオプロセシング ツールに影響を与える追加設定です。これらの設定は、ジオプロセシングが制御された環境で実行されることを確実にする強力な方法を提供します。この環境では、処理を特定の地理的領域に制限する処理範囲、すべての出力ジオデータセットの座標系、またはジオプロセシングの結果に Z または M の値を含めるかなどを決定します。\n",
    "\n",
    "特定のジオプロセシング ツールでは、特定の環境設定のみが使用されます。ツールが使用する環境を決定するには、ツールのドキュメントを参照してください。\n",
    "\n",
    "`arcgis.env` モジュールには、すべてのジオプロセシング ツールに共通する環境設定を格納するグローバル変数があります。以下のコード スニペットは、出力ジオメトリの空間参照を  4326(WGS84) に設定しています。"
   ]
  },
  {
   "cell_type": "code",
   "execution_count": 34,
   "metadata": {},
   "outputs": [],
   "source": [
    "arcgis.env.out_spatial_reference = 4326"
   ]
  },
  {
   "cell_type": "markdown",
   "metadata": {},
   "source": [
    "## Logging とエラー処理\n",
    "ジオプロセシング ツールは、Python の [Logging](https://docs.python.org/2/library/logging.html) を使用して、実行に関する情報や警告、およびエラーメッセージを記録します。これらのメッセージには、以下のような情報が含まれます。\n",
    "\n",
    "* 操作の開始および終了時刻\n",
    "* 使用されたパラメーター値\n",
    "* 操作の進捗に関する一般的な情報 (logging.INFO)\n",
    "* 潜在的な問題を警告するメッセージ (logging.WARN)\n",
    "* ツールの実行を停止する原因となるエラー (logging.ERROR)\n",
    "\n",
    "ツールとユーザーの間のすべてのコミュニケーションは、このログメッセージで行われます。メッセージは重大度によって分類され、これらの異なるレベルで記録されます。\n"
   ]
  },
  {
   "cell_type": "markdown",
   "metadata": {},
   "source": [
    "|Log Level|説明|\n",
    "|:-|:-| \n",
    "| logging.INFO | ツールの実行に関する情報です。問題を指摘するために使われることはありません。情報メッセージには、ツールの進捗状況、ツールの開始や終了の時刻、出力データの特性、ツールの結果など、一般的な情報のみが含まれます。 |\n",
    "| logging.WARN | ツールの実行中に問題が発生する可能性がある場合や、期待通りの結果が得られない場合に生成されます。例えば、すでに座標系が定義されているデータセットに対して座標系を定義すると、警告が表示されます。警告が返ってきた場合、ツールの実行をキャンセルしたり、別のパラメーターを選択するなどの対応が可能です。 |\n",
    "| logging.ERROR | ツールの実行を妨げる重大なイベントを示します。エラーは、1つまたは複数のパラメーターが無効な値を持つ場合や、重要な実行プロセスやルーチンが失敗した場合に発生します。 |"
   ]
  },
  {
   "cell_type": "markdown",
   "metadata": {},
   "source": [
    "以下のコードでは、ログレベルを logging.INFO に設定しています。そうすることで、 INFO  レベル以上のすべてのメッセージがログに記録され表示されます。"
   ]
  },
  {
   "cell_type": "code",
   "execution_count": 35,
   "metadata": {},
   "outputs": [],
   "source": [
    "import logging\n",
    "import sys\n",
    "\n",
    "# logger の設定\n",
    "logger = logging.getLogger()\n",
    "logger.setLevel(logging.INFO)\n",
    "\n",
    "# STDERR handler の設定\n",
    "handler = logging.StreamHandler(sys.stderr)\n",
    "\n",
    "# handler が生成された際に起動する STDERR handler の設定  \n",
    "logger.handlers = [handler]"
   ]
  },
  {
   "cell_type": "markdown",
   "metadata": {},
   "source": [
    "## 標準出力への詳細なロギング\n",
    "開発を容易にするために、ジオプロセシング ツールからのメッセージは、stderr に加えて stdout にも出力されます。この動作は、`module.arcgis.env.verbose` グローバル変数によって制御されており、それを `False` に設定することでオフにできます。いずれにしても、すべてのジオプロセシング メッセージは、Python の logging module を通じて利用可能です。"
   ]
  },
  {
   "cell_type": "code",
   "execution_count": 36,
   "metadata": {},
   "outputs": [],
   "source": [
    "arcgis.env.verbose = False "
   ]
  },
  {
   "cell_type": "markdown",
   "metadata": {},
   "source": [
    "## エラー処理\n",
    "ジオプロセシング ツールは、様々な理由でエラーや障害が発生することがあります。ツールの関数は、そのようなエラーや失敗を報告するために Python Exception を投げます。ツールの実行に失敗する可能性を処理するには、ツールの呼び出しを try/except ブロックで囲みます。\n",
    "\n",
    "以下のコードでは、ツールの実行を try/except ブロックで囲み、ツールの実行に失敗した場合は except に入力したようなエラーを報告します。"
   ]
  },
  {
   "cell_type": "code",
   "execution_count": 37,
   "metadata": {},
   "outputs": [],
   "source": [
    "viewtools = import_toolbox('https://sampleserver1.arcgisonline.com/ArcGIS/rest/services/Elevation/ESRI_Elevation_World/GPServer')"
   ]
  },
  {
   "cell_type": "code",
   "execution_count": 38,
   "metadata": {},
   "outputs": [
    {
     "name": "stdout",
     "output_type": "stream",
     "text": [
      "The tool encountered an error\n"
     ]
    }
   ],
   "source": [
    "try:\n",
    "    viewtools.viewshed()\n",
    "except Exception as e:\n",
    "    print('The tool encountered an error')"
   ]
  },
  {
   "cell_type": "markdown",
   "metadata": {},
   "source": [
    "## ジオプロセシング ツールの作成\n",
    "[このドキュメント](https://pro.arcgis.com/ja/pro-app/latest/arcpy/geoprocessing_and_python/a-quick-tour-of-creating-tools-in-python.htm)では、Python を使ったジオプロセシング ツールの作成方法を紹介しています。"
   ]
  }
 ],
 "metadata": {
  "kernelspec": {
   "display_name": "Python 3",
   "language": "python",
   "name": "python3"
  },
  "language_info": {
   "codemirror_mode": {
    "name": "ipython",
    "version": 3
   },
   "file_extension": ".py",
   "mimetype": "text/x-python",
   "name": "python",
   "nbconvert_exporter": "python",
   "pygments_lexer": "ipython3",
   "version": "3.7.10"
  }
 },
 "nbformat": 4,
 "nbformat_minor": 4
}
