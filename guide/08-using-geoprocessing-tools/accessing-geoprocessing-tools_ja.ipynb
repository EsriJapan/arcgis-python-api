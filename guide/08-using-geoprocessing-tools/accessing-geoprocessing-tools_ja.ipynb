{
 "cells": [
  {
   "cell_type": "markdown",
   "metadata": {},
   "source": [
    "## ジオプロセシング ツールへのアクセス\n",
    "ジオプロセシング ツールを検索して、コード内でアクセスする方法を以下に説明します。\n",
    "\n",
    "* ジオプロセシング ツールの呼び出し方\n",
    "* ツールとツールボックスの Python 表現\n",
    "* ツールボックスのインポート\n",
    "  - `Item` からツールボックスのインポート\n",
    "  - ジオプロセシング サービスの URL からツールボックスのインポート\n",
    "* ツールの署名、パラメーター、ドキュメント"
   ]
  },
  {
   "cell_type": "markdown",
   "metadata": {},
   "source": [
    "## ジオプロセシング ツールの呼び出し方\n",
    "\n",
    " 以下には ジオプロセシング ツールの実際の使い方を示していきます。\n",
    " ジオプロセシング ツールは、他のユーザーと共有できる Web ツールと言えます。ユーザーは、ツールをツールボックスで整理し、GIS 上で共有します。ジオプロセシング ツールは、他のアイテムを検索する場合と同様に検索できます。\n",
    "ジオプロセシング ツールボックスを検索するには、アイテム の種類として `Geoprocessing Toolbox` を指定します。"
   ]
  },
  {
   "cell_type": "code",
   "execution_count": 4,
   "metadata": {},
   "outputs": [],
   "source": [
    "import arcgis \n",
    "from arcgis.gis import GIS \n",
    "from IPython.display import display "
   ]
  },
  {
   "cell_type": "code",
   "execution_count": 4,
   "metadata": {},
   "outputs": [],
   "source": [
    "gis = GIS('https://www.arcgis.com', 'ユーザー名', 'パスワード')"
   ]
  },
  {
   "cell_type": "code",
   "execution_count": 5,
   "metadata": {},
   "outputs": [],
   "source": [
    "toolboxes = gis.content.search('ocean','Geoprocessing Toolbox', \n",
    "                               outside_org=True, max_items=10)"
   ]
  },
  {
   "cell_type": "code",
   "execution_count": 6,
   "metadata": {},
   "outputs": [
    {
     "data": {
      "text/html": [
       "<div class=\"item_container\" style=\"height: auto; overflow: hidden; border: 1px solid #cfcfcf; border-radius: 2px; background: #f6fafa; line-height: 1.21429em; padding: 10px;\">\n",
       "                    <div class=\"item_left\" style=\"width: 210px; float: left;\">\n",
       "                       <a href='https://www.arcgis.com/home/item.html?id=f41a2752bcb640f6988654460e446995' target='_blank'>\n",
       "                        <img src='http://static.arcgis.com/images/desktopapp.png' class=\"itemThumbnail\">\n",
       "                       </a>\n",
       "                    </div>\n",
       "\n",
       "                    <div class=\"item_right\"     style=\"float: none; width: auto; overflow: hidden;\">\n",
       "                        <a href='https://www.arcgis.com/home/item.html?id=f41a2752bcb640f6988654460e446995' target='_blank'><b>ESRI_Currents_World/GPServer</b>\n",
       "                        </a>\n",
       "                        <br/><img src='https://www.arcgis.com/home/js/jsapi/esri/css/images/item_type_icons/layers16.png' style=\"vertical-align:middle;\">Geoprocessing Toolbox by geodev1034admin\n",
       "                        <br/>Last Modified: 12月 02, 2020\n",
       "                        <br/>0 comments, 0 views\n",
       "                    </div>\n",
       "                </div>\n",
       "                "
      ],
      "text/plain": [
       "<Item title:\"ESRI_Currents_World/GPServer\" type:Geoprocessing Toolbox owner:geodev1034admin>"
      ]
     },
     "metadata": {},
     "output_type": "display_data"
    },
    {
     "data": {
      "text/html": [
       "<div class=\"item_container\" style=\"height: auto; overflow: hidden; border: 1px solid #cfcfcf; border-radius: 2px; background: #f6fafa; line-height: 1.21429em; padding: 10px;\">\n",
       "                    <div class=\"item_left\" style=\"width: 210px; float: left;\">\n",
       "                       <a href='https://www.arcgis.com/home/item.html?id=b0823b49c485445fb8f39518cad50bdd' target='_blank'>\n",
       "                        <img src='https://www.arcgis.com/sharing/rest//content/items/b0823b49c485445fb8f39518cad50bdd/info/thumbnail/ago_downloaded.png' class=\"itemThumbnail\">\n",
       "                       </a>\n",
       "                    </div>\n",
       "\n",
       "                    <div class=\"item_right\"     style=\"float: none; width: auto; overflow: hidden;\">\n",
       "                        <a href='https://www.arcgis.com/home/item.html?id=b0823b49c485445fb8f39518cad50bdd' target='_blank'><b>CurrentTracerReport</b>\n",
       "                        </a>\n",
       "                        <br/><img src='https://www.arcgis.com/home/js/jsapi/esri/css/images/item_type_icons/layers16.png' style=\"vertical-align:middle;\">Geoprocessing Toolbox by jingyi_huang_OpenOceansGlobal\n",
       "                        <br/>Last Modified: 1月 28, 2021\n",
       "                        <br/>0 comments, 0 views\n",
       "                    </div>\n",
       "                </div>\n",
       "                "
      ],
      "text/plain": [
       "<Item title:\"CurrentTracerReport\" type:Geoprocessing Toolbox owner:jingyi_huang_OpenOceansGlobal>"
      ]
     },
     "metadata": {},
     "output_type": "display_data"
    },
    {
     "data": {
      "text/html": [
       "<div class=\"item_container\" style=\"height: auto; overflow: hidden; border: 1px solid #cfcfcf; border-radius: 2px; background: #f6fafa; line-height: 1.21429em; padding: 10px;\">\n",
       "                    <div class=\"item_left\" style=\"width: 210px; float: left;\">\n",
       "                       <a href='https://www.arcgis.com/home/item.html?id=17de4e5c61bf4a219688c15c6490b27b' target='_blank'>\n",
       "                        <img src='https://www.arcgis.com/sharing/rest//content/items/17de4e5c61bf4a219688c15c6490b27b/info/thumbnail/ago_downloaded.png' class=\"itemThumbnail\">\n",
       "                       </a>\n",
       "                    </div>\n",
       "\n",
       "                    <div class=\"item_right\"     style=\"float: none; width: auto; overflow: hidden;\">\n",
       "                        <a href='https://www.arcgis.com/home/item.html?id=17de4e5c61bf4a219688c15c6490b27b' target='_blank'><b>Hydrology</b>\n",
       "                        </a>\n",
       "                        <br/><img src='https://www.arcgis.com/home/js/jsapi/esri/css/images/item_type_icons/layers16.png' style=\"vertical-align:middle;\">Geoprocessing Toolbox by Vblazek\n",
       "                        <br/>Last Modified: 12月 31, 2018\n",
       "                        <br/>0 comments, 0 views\n",
       "                    </div>\n",
       "                </div>\n",
       "                "
      ],
      "text/plain": [
       "<Item title:\"Hydrology\" type:Geoprocessing Toolbox owner:Vblazek>"
      ]
     },
     "metadata": {},
     "output_type": "display_data"
    },
    {
     "data": {
      "text/html": [
       "<div class=\"item_container\" style=\"height: auto; overflow: hidden; border: 1px solid #cfcfcf; border-radius: 2px; background: #f6fafa; line-height: 1.21429em; padding: 10px;\">\n",
       "                    <div class=\"item_left\" style=\"width: 210px; float: left;\">\n",
       "                       <a href='https://www.arcgis.com/home/item.html?id=45993af260f14ec8abb68cb212fda0e4' target='_blank'>\n",
       "                        <img src='https://www.arcgis.com/sharing/rest//content/items/45993af260f14ec8abb68cb212fda0e4/info/thumbnail/thu313C.png' class=\"itemThumbnail\">\n",
       "                       </a>\n",
       "                    </div>\n",
       "\n",
       "                    <div class=\"item_right\"     style=\"float: none; width: auto; overflow: hidden;\">\n",
       "                        <a href='https://www.arcgis.com/home/item.html?id=45993af260f14ec8abb68cb212fda0e4' target='_blank'><b>Farthest On Circle</b>\n",
       "                        </a>\n",
       "                        <br/>Caclulates the farthest on circle for a vessel.<img src='https://www.arcgis.com/home/js/jsapi/esri/css/images/item_type_icons/layers16.png' style=\"vertical-align:middle;\">Geoprocessing Toolbox by johnfry10\n",
       "                        <br/>Last Modified: 7月 10, 2015\n",
       "                        <br/>0 comments, 29 views\n",
       "                    </div>\n",
       "                </div>\n",
       "                "
      ],
      "text/plain": [
       "<Item title:\"Farthest On Circle\" type:Geoprocessing Toolbox owner:johnfry10>"
      ]
     },
     "metadata": {},
     "output_type": "display_data"
    },
    {
     "data": {
      "text/html": [
       "<div class=\"item_container\" style=\"height: auto; overflow: hidden; border: 1px solid #cfcfcf; border-radius: 2px; background: #f6fafa; line-height: 1.21429em; padding: 10px;\">\n",
       "                    <div class=\"item_left\" style=\"width: 210px; float: left;\">\n",
       "                       <a href='https://www.arcgis.com/home/item.html?id=2fbfb9652b944f57bc2b6217a21800cb' target='_blank'>\n",
       "                        <img src='https://www.arcgis.com/sharing/rest//content/items/2fbfb9652b944f57bc2b6217a21800cb/info/thumbnail/ago_downloaded.png' class=\"itemThumbnail\">\n",
       "                       </a>\n",
       "                    </div>\n",
       "\n",
       "                    <div class=\"item_right\"     style=\"float: none; width: auto; overflow: hidden;\">\n",
       "                        <a href='https://www.arcgis.com/home/item.html?id=2fbfb9652b944f57bc2b6217a21800cb' target='_blank'><b>SAR_User_Input</b>\n",
       "                        </a>\n",
       "                        <br/><img src='https://www.arcgis.com/home/js/jsapi/esri/css/images/item_type_icons/layers16.png' style=\"vertical-align:middle;\">Geoprocessing Toolbox by ttmetoffice\n",
       "                        <br/>Last Modified: 12月 30, 2016\n",
       "                        <br/>0 comments, 0 views\n",
       "                    </div>\n",
       "                </div>\n",
       "                "
      ],
      "text/plain": [
       "<Item title:\"SAR_User_Input\" type:Geoprocessing Toolbox owner:ttmetoffice>"
      ]
     },
     "metadata": {},
     "output_type": "display_data"
    },
    {
     "data": {
      "text/html": [
       "<div class=\"item_container\" style=\"height: auto; overflow: hidden; border: 1px solid #cfcfcf; border-radius: 2px; background: #f6fafa; line-height: 1.21429em; padding: 10px;\">\n",
       "                    <div class=\"item_left\" style=\"width: 210px; float: left;\">\n",
       "                       <a href='https://www.arcgis.com/home/item.html?id=383c2039b89d43baa0010c3bf243b144' target='_blank'>\n",
       "                        <img src='https://www.arcgis.com/sharing/rest//content/items/383c2039b89d43baa0010c3bf243b144/info/thumbnail/Ocean_Currents.png' class=\"itemThumbnail\">\n",
       "                       </a>\n",
       "                    </div>\n",
       "\n",
       "                    <div class=\"item_right\"     style=\"float: none; width: auto; overflow: hidden;\">\n",
       "                        <a href='https://www.arcgis.com/home/item.html?id=383c2039b89d43baa0010c3bf243b144' target='_blank'><b>Ocean Currents</b>\n",
       "                        </a>\n",
       "                        <br/>Calculates the path of an unpowered vessel drifiting in ocean currents from a user defined point. Excludes wind or atmospheric conditions.<img src='https://www.arcgis.com/home/js/jsapi/esri/css/images/item_type_icons/layers16.png' style=\"vertical-align:middle;\">Geoprocessing Toolbox by esri_apac\n",
       "                        <br/>Last Modified: 8月 25, 2014\n",
       "                        <br/>1 comments, 176 views\n",
       "                    </div>\n",
       "                </div>\n",
       "                "
      ],
      "text/plain": [
       "<Item title:\"Ocean Currents\" type:Geoprocessing Toolbox owner:esri_apac>"
      ]
     },
     "metadata": {},
     "output_type": "display_data"
    }
   ],
   "source": [
    "for toolbox in toolboxes:\n",
    "    display(toolbox)"
   ]
  },
  {
   "cell_type": "markdown",
   "metadata": {},
   "source": [
    "## ツールとツールボックスの Python 表現\n",
    "ArcGIS API for Python では、ジオプロセシング ツールボックスは Python モジュールとして、個々のツールは Python 関数として表されます。Python 関数として表されるこれらのツールは、入力パラメーターのセットを取り込み、1 つ以上の出力値を返します。\n",
    "\n",
    "カスタム ジオプロセシング ツールを使用するには、ユーザーはそのツールボックスをプログラム内のモジュールとしてインポートし、モジュール内で関数を呼び出すだけです。"
   ]
  },
  {
   "cell_type": "markdown",
   "metadata": {},
   "source": [
    "## ツールボックスのインポート\n",
    "`arcgis.geoprocessing` モジュールの関数である `import_toolbox()` によって、ジオプロセシング ツールボックスをネイティブ Python モジュールとしてインポートします。ツールボックスの場所として、GIS 内のジオプロセシング ツールボックス アイテム、またはジオプロセシング サービスの URL が挙げられます。\n",
    "\n",
    "インポートしたモジュールで使用できる関数を呼び出して、これらのツールを呼び出すことができます。これら 2 つのソースからツールボックスをインポートする方法を見てみましょう。"
   ]
  },
  {
   "cell_type": "markdown",
   "metadata": {},
   "source": [
    "### `Item` からツールボックスのインポート\n",
    "　以下のコード スニペットは、上記の Ocean Currents ツールボックスをモジュールとしてインポートする方法を示しています。"
   ]
  },
  {
   "cell_type": "code",
   "execution_count": 6,
   "metadata": {},
   "outputs": [],
   "source": [
    "from arcgis.geoprocessing import import_toolbox"
   ]
  },
  {
   "cell_type": "code",
   "execution_count": 8,
   "metadata": {},
   "outputs": [
    {
     "data": {
      "text/html": [
       "<div class=\"item_container\" style=\"height: auto; overflow: hidden; border: 1px solid #cfcfcf; border-radius: 2px; background: #f6fafa; line-height: 1.21429em; padding: 10px;\">\n",
       "                    <div class=\"item_left\" style=\"width: 210px; float: left;\">\n",
       "                       <a href='https://www.arcgis.com/home/item.html?id=383c2039b89d43baa0010c3bf243b144' target='_blank'>\n",
       "                        <img src='https://www.arcgis.com/sharing/rest//content/items/383c2039b89d43baa0010c3bf243b144/info/thumbnail/Ocean_Currents.png' class=\"itemThumbnail\">\n",
       "                       </a>\n",
       "                    </div>\n",
       "\n",
       "                    <div class=\"item_right\"     style=\"float: none; width: auto; overflow: hidden;\">\n",
       "                        <a href='https://www.arcgis.com/home/item.html?id=383c2039b89d43baa0010c3bf243b144' target='_blank'><b>Ocean Currents</b>\n",
       "                        </a>\n",
       "                        <br/>Calculates the path of an unpowered vessel drifiting in ocean currents from a user defined point. Excludes wind or atmospheric conditions.<img src='https://www.arcgis.com/home/js/jsapi/esri/css/images/item_type_icons/layers16.png' style=\"vertical-align:middle;\">Geoprocessing Toolbox by esri_apac\n",
       "                        <br/>Last Modified: 8月 25, 2014\n",
       "                        <br/>1 comments, 176 views\n",
       "                    </div>\n",
       "                </div>\n",
       "                "
      ],
      "text/plain": [
       "<Item title:\"Ocean Currents\" type:Geoprocessing Toolbox owner:esri_apac>"
      ]
     },
     "execution_count": 8,
     "metadata": {},
     "output_type": "execute_result"
    }
   ],
   "source": [
    "ocean_currents_toolbox = toolboxes[5]\n",
    "ocean_currents_toolbox"
   ]
  },
  {
   "cell_type": "code",
   "execution_count": 9,
   "metadata": {},
   "outputs": [],
   "source": [
    "ocean_currents = import_toolbox(ocean_currents_toolbox)"
   ]
  },
  {
   "cell_type": "markdown",
   "metadata": {},
   "source": [
    "`import_toolbox()` 関数は、ジオプロセシング ツールボックスを検査し、ツールボックス内の各ツールの関数を含む Python モジュールを動的に生成します。関数を呼び出すと、対応するジオプロセシング ツールが呼び出されます。\n",
    "\n",
    "次のコード スニペットでは、Python の `inspect` モジュールを使用して、インポートされたモジュールのパブリック関数を一覧表示します。開発者は、IDE のインテリセンスを使用して、モジュール内の関数を検出します。"
   ]
  },
  {
   "cell_type": "code",
   "execution_count": 10,
   "metadata": {},
   "outputs": [
    {
     "data": {
      "text/plain": [
       "['message_in_a_bottle']"
      ]
     },
     "execution_count": 10,
     "metadata": {},
     "output_type": "execute_result"
    }
   ],
   "source": [
    "import inspect\n",
    "\n",
    "# inspect を使用して、取得したツールボックスの関数を list 化\n",
    "[ f[0] for f in inspect.getmembers(ocean_currents, inspect.isfunction) \n",
    "             if not f[0].startswith('_')]"
   ]
  },
  {
   "cell_type": "code",
   "execution_count": 11,
   "metadata": {},
   "outputs": [
    {
     "name": "stdout",
     "output_type": "stream",
     "text": [
      "Help on function message_in_a_bottle:\n",
      "\n",
      "message_in_a_bottle(input_point: arcgis.features.feature.FeatureSet = {'geometryType': 'esriGeometryPoint', 'spatialReference': {'wkid': 4326}, 'Fields': [{'name': 'FID', 'type': 'esriFieldTypeOID', 'alias': 'FID'}, {'name': 'Shape', 'type': 'esriFieldTypeGeometry', 'alias': 'Shape'}, {'name': 'Id', 'type': 'esriFieldTypeInteger', 'alias': 'Id'}], 'fields': [{'name': 'FID', 'type': 'esriFieldTypeOID', 'alias': 'FID'}, {'name': 'Shape', 'type': 'esriFieldTypeGeometry', 'alias': 'Shape'}, {'name': 'Id', 'type': 'esriFieldTypeInteger', 'alias': 'Id'}]}, days: float = 150, gis=None, future=False) -> arcgis.features.feature.FeatureSet\n",
      "            \n",
      "    \n",
      "    \n",
      "    Parameters:\n",
      "    \n",
      "       input_point: Input Point (FeatureSet). Required parameter. \n",
      "    \n",
      "       days: Days (float). Required parameter. \n",
      "    \n",
      "            gis: Optional, the GIS on which this tool runs. If not specified, the active GIS is used.\n",
      "    \n",
      "    \n",
      "            future: Optional, If True, a future object will be returns and the process will not wait for the task to complete. The default is False, which means wait for results.\n",
      "    \n",
      "    \n",
      "    Returns: \n",
      "       output - Output as a FeatureSet\n",
      "    \n",
      "    See http://sampleserver1c.arcgisonline.com/arcgisoutput/Specialty_ESRI_Currents_World/MessageInABottle.htm for additional help.\n",
      "\n"
     ]
    }
   ],
   "source": [
    "help(ocean_currents.message_in_a_bottle)"
   ]
  },
  {
   "cell_type": "markdown",
   "metadata": {},
   "source": [
    "### ジオプロセシング サービスの URL からツールボックスのインポート\n",
    "　以下の例では、ジオプロセシング サービスへのURLを使用して、ジオプロセシング ツールボックスをインポートしています。"
   ]
  },
  {
   "cell_type": "code",
   "execution_count": 12,
   "metadata": {},
   "outputs": [],
   "source": [
    "toolbox_url = 'https://sampleserver1.arcgisonline.com/ArcGIS/rest/services/Elevation/ESRI_Elevation_World/GPServer/Viewshed'\n",
    "elev = import_toolbox(toolbox_url)"
   ]
  },
  {
   "cell_type": "markdown",
   "metadata": {},
   "source": [
    "## ツールの署名、パラメーター、ドキュメント\n",
    "ジオプロセシング ツールを呼び出す関数には、そのツールに関するドキュメントが含まれています。このドキュメントは IDE のインテリセンスを使用して表示され、Python の help 関数を使用してアクセスすることもできます。"
   ]
  },
  {
   "cell_type": "code",
   "execution_count": 13,
   "metadata": {
    "scrolled": true
   },
   "outputs": [
    {
     "name": "stdout",
     "output_type": "stream",
     "text": [
      "Help on function viewshed:\n",
      "\n",
      "viewshed(input_observation_point: arcgis.features.feature.FeatureSet = {'geometryType': 'esriGeometryPoint', 'spatialReference': {'wkid': 54003}, 'Fields': [{'name': 'FID', 'type': 'esriFieldTypeOID', 'alias': 'FID'}, {'name': 'Shape', 'type': 'esriFieldTypeGeometry', 'alias': 'Shape'}, {'name': 'OffsetA', 'type': 'esriFieldTypeDouble', 'alias': 'OffsetA'}], 'fields': [{'name': 'FID', 'type': 'esriFieldTypeOID', 'alias': 'FID'}, {'name': 'Shape', 'type': 'esriFieldTypeGeometry', 'alias': 'Shape'}, {'name': 'OffsetA', 'type': 'esriFieldTypeDouble', 'alias': 'OffsetA'}]}, viewshed_distance: arcgis.geoprocessing._types.LinearUnit = {'distance': 15000, 'units': 'esriMeters'}, gis=None, future=False) -> arcgis.features.feature.FeatureSet\n",
      "            \n",
      "    \n",
      "    \n",
      "    Parameters:\n",
      "    \n",
      "       input_observation_point: Input Observation Point (FeatureSet). Required parameter. \n",
      "    \n",
      "       viewshed_distance: Viewshed Distance (LinearUnit). Required parameter. \n",
      "    \n",
      "            gis: Optional, the GIS on which this tool runs. If not specified, the active GIS is used.\n",
      "    \n",
      "    \n",
      "            future: Optional, If True, a future object will be returns and the process will not wait for the task to complete. The default is False, which means wait for results.\n",
      "    \n",
      "    \n",
      "    Returns: \n",
      "       viewshed_result - Viewshed Result as a FeatureSet\n",
      "    \n",
      "    See http://sampleserver1b.arcgisonline.com/arcgisoutput/Elevation_ESRI_Elevation_World/Viewshed.htm for additional help.\n",
      "\n"
     ]
    }
   ],
   "source": [
    "help(elev.viewshed) "
   ]
  },
  {
   "cell_type": "markdown",
   "metadata": {},
   "source": [
    "上の例に示すように、ツール関数には、入力と出力を示すために、[タイプ ヒント](https://www.python.org/dev/peps/pep-0484/)を使用しています。関数シグネチャには入力パラメーターの既定値が含まれるため、呼び出し元は必要な場合を除き、値を指定する必要はありません。パラメーターのドキュメントには、各パラメーターの説明、期待されるタイプ、必須またはオプションのどちらであるかを含んでいます。パラメーターが入力値のリストを受け入れる場合、そのリストは Choise List としてドキュメントに含まれます。このドキュメントには、関数の戻り値のタイプと説明が含まれています。\n",
    "\n",
    "次に、「ジオプロセシング ツールの使用(リンクは公開後)」に進み、Python スクリプトでこれらのツールを使用する方法を確認します。"
   ]
  }
 ],
 "metadata": {
  "kernelspec": {
   "display_name": "Python 3",
   "language": "python",
   "name": "python3"
  },
  "language_info": {
   "codemirror_mode": {
    "name": "ipython",
    "version": 3
   },
   "file_extension": ".py",
   "mimetype": "text/x-python",
   "name": "python",
   "nbconvert_exporter": "python",
   "pygments_lexer": "ipython3",
   "version": "3.7.10"
  }
 },
 "nbformat": 4,
 "nbformat_minor": 4
}
