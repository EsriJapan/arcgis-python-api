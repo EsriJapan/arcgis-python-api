{
 "cells": [
  {
   "cell_type": "markdown",
   "metadata": {},
   "source": [
    "## ジオプロセシング ツールの使用\n",
    "\n",
    "ArcGIS API for Python では、ジオプロセシング ツールボックスとその中のツールは、Python モジュールとそのモジュール内の関数として表されます。この構成の詳細については、「[ジオプロセシング ツールへのアクセス](https://github.com/EsriJapan/arcgis-python-api/blob/master/guide/08-using-geoprocessing-tools/accessing-geoprocessing-tools_ja.ipynb)」を参照してください。ガイドのこの部分では、次の点を確認します。\n",
    "\n",
    "* ジオプロセシング ツールの呼び出し\n",
    "* ツールの入力パラメーターと出力タイプについて\n",
    "  - ヘルパータイプの使用\n",
    "  - 入力として文字列を使用\n",
    "* 複数の出力を持つツール\n",
    "  - 複数の出力を作成するツールの呼び出し\n",
    "  - 名前付きタプルを使用した複数の出力へのアクセス\n",
    "* マップ イメージ レイヤーをエクスポートするツール\n"
   ]
  },
  {
   "cell_type": "markdown",
   "metadata": {},
   "source": [
    "## ジオプロセシング ツールの呼び出し\n",
    "\n",
    "ツールボックスをモジュールとしてインポートし、ツールの関数を呼び出すことで、ジオプロセシング ツールを簡単に実行できます。ザイオン国立公園のツールボックスの URL から `extract_zion_data` を実行する方法を見てみましょう。"
   ]
  },
  {
   "cell_type": "code",
   "execution_count": 1,
   "metadata": {},
   "outputs": [],
   "source": [
    "# ArcGIS Online にログイン\n",
    "from arcgis.gis import GIS\n",
    "from arcgis.geoprocessing import import_toolbox\n",
    "\n",
    "gis = GIS('https://www.arcgis.com', 'ユーザー名', 'パスワード')\n",
    "# ザイオン国立公園のツールボックスをインポート\n",
    "zion_toolbox_url = 'https://gis.ices.dk/gis/rest/services/Tools/ExtractZionData/GPServer'\n",
    "zion = import_toolbox(zion_toolbox_url)"
   ]
  },
  {
   "cell_type": "code",
   "execution_count": 2,
   "metadata": {},
   "outputs": [],
   "source": [
    "result=zion.extract_zion_data()"
   ]
  },
  {
   "cell_type": "markdown",
   "metadata": {},
   "source": [
    "このように、ジオプロセシング ツールの実行は簡単です。これらのツールを効率的に使用するのに役立つ概念をいくつか学びましょう。"
   ]
  },
  {
   "cell_type": "markdown",
   "metadata": {},
   "source": [
    "## ツールの入力パラメーターと出力タイプについて\n",
    "ジオプロセシング ツールを呼び出す関数は、次のように、str、int、bool、float、dicts、datetime.datetime、および ArcGIS API for Python で定義されているヘルパー タイプなどの Python の組み込みデータ タイプを入力して、返すことができます。\n",
    "\n",
    "* `arcgis.features.FeatureSet` -フィーチャ のセット\n",
    "* `arcgis.geoprocessing.LinearUnit` - 指定された単位を持つ直線距離\n",
    "* `arcgis.geoprocessing.DataFile` - データを参照する URL またはアイテム ID\n",
    "* `arcgis.geoprocessing.RasterData` - URL またはアイテム ID とラスター データの形式\n",
    "\n",
    "上記のデータ タイプをツールの入力パラメーターとして設定することもできます。\n",
    "\n",
    "Note : ヘルパー タイプを使用する場合、関数は代わりに文字列を受け入れます。例えば、LinearUnit(5, 'Miles') の代わりに '5 Miles' を入力として渡したり、 DataFile や  RasterData の代わりに URL を渡すことができます\n",
    "\n",
    "一部のジオプロセシング ツールは、ツールの結果を視覚化するために `arcgis.mapping.MapImageLayer` を返すように構成されています。 \n",
    "\n",
    "いずれの場合も、ツール関数のドキュメントは、入力パラメーターのタイプと出力値を示します。"
   ]
  },
  {
   "cell_type": "markdown",
   "metadata": {},
   "source": [
    "### ヘルパータイプの使用\n",
    "`arcgis.geoprocessing` モジュールで定義されているヘルパータイプ ( `LinearUnit` , `DataFile` , `RasterData` ) は、文字列または URL を保持し、ディクショナリ表現を持つシンプルなクラスです。  \n",
    "\n",
    "上記の `extract_zion_data()` 関数は、実行結果として `DataFile` を出力します。"
   ]
  },
  {
   "cell_type": "code",
   "execution_count": 16,
   "metadata": {},
   "outputs": [
    {
     "data": {
      "text/plain": [
       "arcgis.geoprocessing._types.DataFile"
      ]
     },
     "execution_count": 16,
     "metadata": {},
     "output_type": "execute_result"
    }
   ],
   "source": [
    "type(result)"
   ]
  },
  {
   "cell_type": "markdown",
   "metadata": {},
   "source": [
    "`DataFile` は、以下のように出力されます。"
   ]
  },
  {
   "cell_type": "code",
   "execution_count": 17,
   "metadata": {},
   "outputs": [
    {
     "data": {
      "text/plain": [
       "{\"url\": \"http://gis.ices.dk/gis/rest/directories/arcgisjobs/tools/extractziondata_gpserver/j48b6f17abdf142679b11e3a71adcce8d/scratch/output.zip\"}"
      ]
     },
     "execution_count": 17,
     "metadata": {},
     "output_type": "execute_result"
    }
   ],
   "source": [
    "result"
   ]
  },
  {
   "cell_type": "markdown",
   "metadata": {},
   "source": [
    "`DataFile` の場合、Web 上に作成された .zip をダウンロードできるなどいくつか関数が用意されています。"
   ]
  },
  {
   "cell_type": "code",
   "execution_count": 18,
   "metadata": {},
   "outputs": [
    {
     "data": {
      "text/plain": [
       "'C:\\Users\\name\\AppData\\Local\\Temp\\output.zip'"
      ]
     },
     "execution_count": 18,
     "metadata": {},
     "output_type": "execute_result"
    }
   ],
   "source": [
    "result.download()"
   ]
  },
  {
   "cell_type": "markdown",
   "metadata": {},
   "source": [
    "### 入力として文字列を使用\n",
    "`LinearUnit` , `RasterData` , `DataFile` などのヘルパータイプの代わりに、文字列を入力として使用することもできます。\n",
    "\n",
    "以下の例では、`viewshed` 関数を呼び出して、地図上でクリックした場所から見える地理的な領域を計算して表示しています。この関数は、観測点を`FeatureSet` として、可視領域の最大表示距離を `LinearUnit` として受け取り、 `FeatureSet` を返します。"
   ]
  },
  {
   "cell_type": "code",
   "execution_count": 3,
   "metadata": {},
   "outputs": [],
   "source": [
    "viewshed = import_toolbox('https://sampleserver1.arcgisonline.com/ArcGIS/rest/services/Elevation/ESRI_Elevation_World/GPServer')"
   ]
  },
  {
   "cell_type": "code",
   "execution_count": 20,
   "metadata": {},
   "outputs": [
    {
     "name": "stdout",
     "output_type": "stream",
     "text": [
      "Help on function viewshed:\n",
      "\n",
      "viewshed(input_observation_point: arcgis.features.feature.FeatureSet = {'geometryType': 'esriGeometryPoint', 'spatialReference': {'wkid': 54003}, 'Fields': [{'name': 'FID', 'type': 'esriFieldTypeOID', 'alias': 'FID'}, {'name': 'Shape', 'type': 'esriFieldTypeGeometry', 'alias': 'Shape'}, {'name': 'OffsetA', 'type': 'esriFieldTypeDouble', 'alias': 'OffsetA'}], 'fields': [{'name': 'FID', 'type': 'esriFieldTypeOID', 'alias': 'FID'}, {'name': 'Shape', 'type': 'esriFieldTypeGeometry', 'alias': 'Shape'}, {'name': 'OffsetA', 'type': 'esriFieldTypeDouble', 'alias': 'OffsetA'}]}, viewshed_distance: arcgis.geoprocessing._types.LinearUnit = {'distance': 15000, 'units': 'esriMeters'}, gis=None, future=False) -> arcgis.features.feature.FeatureSet\n",
      "            \n",
      "    \n",
      "    \n",
      "    Parameters:\n",
      "    \n",
      "       input_observation_point: Input Observation Point (FeatureSet). Required parameter. \n",
      "    \n",
      "       viewshed_distance: Viewshed Distance (LinearUnit). Required parameter. \n",
      "    \n",
      "            gis: Optional, the GIS on which this tool runs. If not specified, the active GIS is used.\n",
      "    \n",
      "    \n",
      "            future: Optional, If True, a future object will be returns and the process will not wait for the task to complete. The default is False, which means wait for results.\n",
      "    \n",
      "    \n",
      "    Returns: \n",
      "       viewshed_result - Viewshed Result as a FeatureSet\n",
      "    \n",
      "    See http://sampleserver1c.arcgisonline.com/arcgisoutput/Elevation_ESRI_Elevation_World/Viewshed.htm for additional help.\n",
      "\n"
     ]
    }
   ],
   "source": [
    "help(viewshed.viewshed)"
   ]
  },
  {
   "cell_type": "code",
   "execution_count": 21,
   "metadata": {},
   "outputs": [],
   "source": [
    "import arcgis \n",
    "from arcgis.gis import GIS\n",
    "\n",
    "gis=GIS()\n",
    "arcgis.env.out_spatial_reference = 4326"
   ]
  },
  {
   "cell_type": "code",
   "execution_count": 22,
   "metadata": {},
   "outputs": [
    {
     "data": {
      "application/vnd.jupyter.widget-view+json": {
       "model_id": "9a8e5d9d284a4a87b296f5e9efcf991d",
       "version_major": 2,
       "version_minor": 0
      },
      "text/plain": [
       "MapView(layout=Layout(height='400px', width='100%'))"
      ]
     },
     "metadata": {},
     "output_type": "display_data"
    },
    {
     "data": {
      "text/html": [
       "<div class=\"map-static-img-preview-046a7898-dd72-4f09-8942-ee841fc87081\"><img src=\"\"></img></div>"
      ],
      "text/plain": [
       "<IPython.core.display.HTML object>"
      ]
     },
     "metadata": {},
     "output_type": "display_data"
    },
    {
     "data": {
      "text/html": [
       "<div class=\"map-html-embed-preview-046a7898-dd72-4f09-8942-ee841fc87081\"></div>"
      ],
      "text/plain": [
       "<IPython.core.display.HTML object>"
      ]
     },
     "metadata": {},
     "output_type": "display_data"
    }
   ],
   "source": [
    "map = gis.map('South San Francisco', zoomlevel=12)\n",
    "map"
   ]
  },
  {
   "cell_type": "markdown",
   "metadata": {},
   "source": [
    "以下のコード スニペットは、イベント リスナーを地図に追加し、クリックされたときに、マップ ウィジェットとクリックされたポイント ジオメトリを入力として `get_viewshed()` が呼び出されるようにしています。イベント ハンドラーは、クリックされたポイント ジオメトリから `FeatureSet` を作成し、`viewshed_distance` パラメーターの入力として、`LinearUnit` オブジェクトを作成する代わりに、文字列 '5 Miles' を使用します。これらは `viewshed` 関数に渡され、観測点からの可視領域を返します。マップ ウィジェットは、 `draw()` メソッドを使って、返された `FeatureSet` を描画することができます。"
   ]
  },
  {
   "cell_type": "code",
   "execution_count": 23,
   "metadata": {},
   "outputs": [],
   "source": [
    "from arcgis.features import Feature, FeatureSet\n",
    "\n",
    "def get_viewshed(m, g):\n",
    "    res = viewshed.viewshed(FeatureSet([Feature(g)]),\"5 Miles\") # \"5 Miles\" とするか LinearUnit(5, 'Miles') で可視領域を示す\n",
    "    m.draw(res)\n",
    "\n",
    "map.on_click(get_viewshed)"
   ]
  },
  {
   "cell_type": "markdown",
   "metadata": {},
   "source": [
    "## 複数の出力を持つツール\n",
    "一部のジオプロセシング ツールは、複数の結果を返すことができます。これらのツールの場合、対応する関数は複数の出力値を[名前付きタプル](https://docs.python.org/3/library/collections.html#namedtuple-factory-function-for-tuples-with-named-fields)として返します。\n",
    "次の例では、複数の出力を返すツールを使用しています。"
   ]
  },
  {
   "cell_type": "code",
   "execution_count": 24,
   "metadata": {},
   "outputs": [],
   "source": [
    "hotspots = import_toolbox('https://sampleserver6.arcgisonline.com/arcgis/rest/services/911CallsHotspot/GPServer')"
   ]
  },
  {
   "cell_type": "code",
   "execution_count": 25,
   "metadata": {},
   "outputs": [
    {
     "name": "stdout",
     "output_type": "stream",
     "text": [
      "Help on function execute_911_calls_hotspot:\n",
      "\n",
      "execute_911_calls_hotspot(query: str = '(\"DATE\" > date \\'1998-01-01 00:00:00\\' AND \"DATE\" < date \\'1998-01-31 00:00:00\\') AND (\"Day\" = \\'SUN\\' OR \"Day\"= \\'SAT\\')', gis=None, future=False) -> tuple\n",
      "            \n",
      "    sdas\n",
      "    \n",
      "    Parameters:\n",
      "    \n",
      "       query: Query (str). Required parameter.  A query string to filter calls. The query can be based on the day of the week such MON/TUE/WED/THU/FRI/SAT (Field Name: Day) or a date range between Jan 1st ,1998 to May 31, 1998 (Field Name: Date). \n",
      "    \n",
      "            gis: Optional, the GIS on which this tool runs. If not specified, the active GIS is used.\n",
      "    \n",
      "    \n",
      "            future: Optional, If True, a future object will be returns and the process will not wait for the task to complete. The default is False, which means wait for results.\n",
      "    \n",
      "    \n",
      "    Returns the following as a named tuple:\n",
      "       result_layer - Result Layer as a MapImageLayer\n",
      "       output_features - Output_Features as a dict\n",
      "       hotspot_raster - Hotspot Raster as a dict\n",
      "    \n",
      "    See https://sampleserver6.arcgisonline.com/arcgis/rest/directories/arcgisoutput/911CallsHotspot_GPServer/911CallsHotspot/911CallsHotspot.htm for additional help.\n",
      "\n"
     ]
    }
   ],
   "source": [
    "help(hotspots.execute_911_calls_hotspot)"
   ]
  },
  {
   "cell_type": "markdown",
   "metadata": {},
   "source": [
    "### 複数の出力を作成するツールの呼び出し\n",
    "次のコード スニペットは、ツールから返された複数の出力を Python によって自動的に複数の変数に入力する方法を示しています。また、使用しない出力結果は、変数名として \"_\" を使用して破棄することができます。"
   ]
  },
  {
   "cell_type": "code",
   "execution_count": 26,
   "metadata": {},
   "outputs": [],
   "source": [
    "_ , output_features, hotspot_raster = hotspots.execute_911_calls_hotspot()"
   ]
  },
  {
   "cell_type": "code",
   "execution_count": 27,
   "metadata": {},
   "outputs": [
    {
     "data": {
      "text/plain": [
       "{'mapImage': {'href': 'https://sampleserver6.arcgisonline.com/arcgis/rest/directories/arcgisoutput/911CallsHotspot_GPServer/911CallsHotspot_MapServer/_ags_mapea516982b9114465968cb5823f7b36e0.png',\n",
       "  'width': 400,\n",
       "  'height': 400,\n",
       "  'extent': {'xmin': 7586498.220384206,\n",
       "   'ymin': 645329.284820139,\n",
       "   'xmax': 7628948.291202795,\n",
       "   'ymax': 687779.355638728,\n",
       "   'spatialReference': {'wkid': 102726, 'latestWkid': 102726}},\n",
       "  'scale': 122256.20395753652}}"
      ]
     },
     "execution_count": 27,
     "metadata": {},
     "output_type": "execute_result"
    }
   ],
   "source": [
    "output_features"
   ]
  },
  {
   "cell_type": "code",
   "execution_count": 28,
   "metadata": {},
   "outputs": [
    {
     "data": {
      "text/plain": [
       "{'mapImage': {'href': 'https://sampleserver6.arcgisonline.com/arcgis/rest/directories/arcgisoutput/911CallsHotspot_GPServer/911CallsHotspot_MapServer/_ags_map123e2e21ea7f422984e14909a17cae08.png',\n",
       "  'width': 400,\n",
       "  'height': 400,\n",
       "  'extent': {'xmin': 7586498.220384206,\n",
       "   'ymin': 645329.284820139,\n",
       "   'xmax': 7628948.291202795,\n",
       "   'ymax': 687779.355638728,\n",
       "   'spatialReference': {'wkid': 102726, 'latestWkid': 102726}},\n",
       "  'scale': 122256.20395753652}}"
      ]
     },
     "execution_count": 28,
     "metadata": {},
     "output_type": "execute_result"
    }
   ],
   "source": [
    "hotspot_raster"
   ]
  },
  {
   "cell_type": "markdown",
   "metadata": {},
   "source": [
    "### 名前付きタプルを使用した複数の出力へのアクセス\n",
    "次のコード スニペットは、名前付きタプルを使って、ツールから返される複数の出力にアクセスしています。"
   ]
  },
  {
   "cell_type": "code",
   "execution_count": 29,
   "metadata": {},
   "outputs": [],
   "source": [
    "result=hotspots.execute_911_calls_hotspot() "
   ]
  },
  {
   "cell_type": "code",
   "execution_count": 30,
   "metadata": {},
   "outputs": [
    {
     "data": {
      "text/plain": [
       "<MapImageLayer url:\"https://sampleserver6.arcgisonline.com/arcgis/rest/services/911CallsHotspot/MapServer/jobs/j85f4ff8afc084a5fb9d0d7ed99f0d684\">"
      ]
     },
     "execution_count": 30,
     "metadata": {},
     "output_type": "execute_result"
    }
   ],
   "source": [
    "result.result_layer"
   ]
  },
  {
   "cell_type": "code",
   "execution_count": 31,
   "metadata": {},
   "outputs": [
    {
     "data": {
      "text/plain": [
       "{'mapImage': {'href': 'https://sampleserver6.arcgisonline.com/arcgis/rest/directories/arcgisoutput/911CallsHotspot_GPServer/911CallsHotspot_MapServer/_ags_map40ae5e4cfbf34b13b163f5d9bf868558.png',\n",
       "  'width': 400,\n",
       "  'height': 400,\n",
       "  'extent': {'xmin': 7586498.220384206,\n",
       "   'ymin': 645329.284820139,\n",
       "   'xmax': 7628948.291202795,\n",
       "   'ymax': 687779.355638728,\n",
       "   'spatialReference': {'wkid': 102726, 'latestWkid': 102726}},\n",
       "  'scale': 122256.20395753652}}"
      ]
     },
     "execution_count": 31,
     "metadata": {},
     "output_type": "execute_result"
    }
   ],
   "source": [
    "result.output_features"
   ]
  },
  {
   "cell_type": "code",
   "execution_count": 32,
   "metadata": {},
   "outputs": [
    {
     "data": {
      "text/plain": [
       "{'mapImage': {'href': 'https://sampleserver6.arcgisonline.com/arcgis/rest/directories/arcgisoutput/911CallsHotspot_GPServer/911CallsHotspot_MapServer/_ags_mape2f4e0a210c14187aaa09e40b7ca9e3c.png',\n",
       "  'width': 400,\n",
       "  'height': 400,\n",
       "  'extent': {'xmin': 7586498.220384206,\n",
       "   'ymin': 645329.284820139,\n",
       "   'xmax': 7628948.291202795,\n",
       "   'ymax': 687779.355638728,\n",
       "   'spatialReference': {'wkid': 102726, 'latestWkid': 102726}},\n",
       "  'scale': 122256.20395753652}}"
      ]
     },
     "execution_count": 32,
     "metadata": {},
     "output_type": "execute_result"
    }
   ],
   "source": [
    "result.hotspot_raster"
   ]
  },
  {
   "cell_type": "markdown",
   "metadata": {},
   "source": [
    "## マップ イメージ レイヤーをエクスポートするツール\n",
    "一部のジオプロセシング ツールは、結果を簡単に視覚化できるように、出力をマップイメージレイヤーとして返すように構成されています。結果のレイヤーは、地図に追加したり、クエリを実行したりできます。\n",
    "上記の hotspots() は、 hotspot_raster にマップイメージレイヤーを出力しています。このラスター画像は、 IPython を使用することで Jupyter Notebook 上で確認できます。"
   ]
  },
  {
   "cell_type": "code",
   "execution_count": 33,
   "metadata": {},
   "outputs": [
    {
     "data": {
      "image/png": "[encoded data removed]",
      "text/plain": [
       "<IPython.core.display.Image object>"
      ]
     },
     "execution_count": 33,
     "metadata": {},
     "output_type": "execute_result"
    }
   ],
   "source": [
    "from IPython.display import Image\n",
    "Image(hotspot_raster['mapImage']['href'])"
   ]
  }
 ],
 "metadata": {
  "kernelspec": {
   "display_name": "Python 3",
   "language": "python",
   "name": "python3"
  },
  "language_info": {
   "codemirror_mode": {
    "name": "ipython",
    "version": 3
   },
   "file_extension": ".py",
   "mimetype": "text/x-python",
   "name": "python",
   "nbconvert_exporter": "python",
   "pygments_lexer": "ipython3",
   "version": "3.7.10"
  }
 },
 "nbformat": 4,
 "nbformat_minor": 4
}
